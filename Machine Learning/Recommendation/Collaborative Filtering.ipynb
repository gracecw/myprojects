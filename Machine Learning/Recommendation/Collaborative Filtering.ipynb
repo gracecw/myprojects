{
 "cells": [
  {
   "cell_type": "markdown",
   "metadata": {
    "nbgrader": {
     "grade": false,
     "grade_id": "cell-c221f36c8cb8cc40",
     "locked": true,
     "schema_version": 1,
     "solution": false
    }
   },
   "source": [
    "# Recommendation systems\n"
   ]
  },
  {
   "cell_type": "markdown",
   "metadata": {
    "nbgrader": {
     "grade": false,
     "grade_id": "cell-a3ecbb6da6a04705",
     "locked": true,
     "schema_version": 1,
     "solution": false
    }
   },
   "source": [
    "# Collaborative Filtering with Gradient Descent \n",
    "\n",
    "In this part, I will build a collaborative filtering model to predict movie ratings using collaborative filtering and stochastic gradient descent following the steps below:\n",
    "\n",
    "    - Encoding rating data\n",
    "    - Initializing parameters\n",
    "    - Calculating the cost function\n",
    "    - Calculating gradient\n",
    "    - Using an optimization algorithm (gradient descent) \n",
    "    - Predicting on new data\n",
    "    - Putting it all together."
   ]
  },
  {
   "cell_type": "code",
   "execution_count": 2,
   "metadata": {
    "collapsed": true
   },
   "outputs": [],
   "source": [
    "import numpy as np\n",
    "import pandas as pd"
   ]
  },
  {
   "cell_type": "markdown",
   "metadata": {},
   "source": [
    "## Data\n",
    "We will use the MovieLens dataset. For demonstration we will use the small one, which has 10,000 ratings and 1,300 tag applications applications applied to 9,000 movies by 700 users. Last updated 10/2016."
   ]
  },
  {
   "cell_type": "code",
   "execution_count": 4,
   "metadata": {},
   "outputs": [
    {
     "data": {
      "text/plain": [
       "(100004, 4)"
      ]
     },
     "execution_count": 4,
     "metadata": {},
     "output_type": "execute_result"
    }
   ],
   "source": [
    "path = \"ml-latest-small/\"\n",
    "data = pd.read_csv(path + \"ratings.csv\")\n",
    "data.shape"
   ]
  },
  {
   "cell_type": "code",
   "execution_count": 5,
   "metadata": {},
   "outputs": [
    {
     "data": {
      "text/html": [
       "<div>\n",
       "<style>\n",
       "    .dataframe thead tr:only-child th {\n",
       "        text-align: right;\n",
       "    }\n",
       "\n",
       "    .dataframe thead th {\n",
       "        text-align: left;\n",
       "    }\n",
       "\n",
       "    .dataframe tbody tr th {\n",
       "        vertical-align: top;\n",
       "    }\n",
       "</style>\n",
       "<table border=\"1\" class=\"dataframe\">\n",
       "  <thead>\n",
       "    <tr style=\"text-align: right;\">\n",
       "      <th></th>\n",
       "      <th>userId</th>\n",
       "      <th>movieId</th>\n",
       "      <th>rating</th>\n",
       "      <th>timestamp</th>\n",
       "    </tr>\n",
       "  </thead>\n",
       "  <tbody>\n",
       "    <tr>\n",
       "      <th>0</th>\n",
       "      <td>1</td>\n",
       "      <td>31</td>\n",
       "      <td>2.5</td>\n",
       "      <td>1260759144</td>\n",
       "    </tr>\n",
       "    <tr>\n",
       "      <th>1</th>\n",
       "      <td>1</td>\n",
       "      <td>1029</td>\n",
       "      <td>3.0</td>\n",
       "      <td>1260759179</td>\n",
       "    </tr>\n",
       "    <tr>\n",
       "      <th>2</th>\n",
       "      <td>1</td>\n",
       "      <td>1061</td>\n",
       "      <td>3.0</td>\n",
       "      <td>1260759182</td>\n",
       "    </tr>\n",
       "    <tr>\n",
       "      <th>3</th>\n",
       "      <td>1</td>\n",
       "      <td>1129</td>\n",
       "      <td>2.0</td>\n",
       "      <td>1260759185</td>\n",
       "    </tr>\n",
       "    <tr>\n",
       "      <th>4</th>\n",
       "      <td>1</td>\n",
       "      <td>1172</td>\n",
       "      <td>4.0</td>\n",
       "      <td>1260759205</td>\n",
       "    </tr>\n",
       "  </tbody>\n",
       "</table>\n",
       "</div>"
      ],
      "text/plain": [
       "   userId  movieId  rating   timestamp\n",
       "0       1       31     2.5  1260759144\n",
       "1       1     1029     3.0  1260759179\n",
       "2       1     1061     3.0  1260759182\n",
       "3       1     1129     2.0  1260759185\n",
       "4       1     1172     4.0  1260759205"
      ]
     },
     "execution_count": 5,
     "metadata": {},
     "output_type": "execute_result"
    }
   ],
   "source": [
    "data.head()"
   ]
  },
  {
   "cell_type": "markdown",
   "metadata": {
    "nbgrader": {
     "grade": false,
     "grade_id": "cell-0ea2a22f6bbdabbc",
     "locked": true,
     "schema_version": 1,
     "solution": false
    }
   },
   "source": [
    "## Encoding rating data"
   ]
  },
  {
   "cell_type": "code",
   "execution_count": 6,
   "metadata": {
    "collapsed": true,
    "nbgrader": {
     "grade": false,
     "grade_id": "cell-44b682275c3630cc",
     "locked": true,
     "schema_version": 1,
     "solution": false
    }
   },
   "outputs": [],
   "source": [
    "# Encodes a pandas column with continous ids.\n",
    "def proc_col(col):\n",
    "    uniq = col.unique()\n",
    "    name2idx = {o:i for i,o in enumerate(uniq)}\n",
    "    return name2idx, np.array([name2idx[x] for x in col]), len(uniq)"
   ]
  },
  {
   "cell_type": "code",
   "execution_count": 8,
   "metadata": {
    "collapsed": true,
    "nbgrader": {
     "grade": false,
     "grade_id": "cell-41f615ff687624c5",
     "locked": false,
     "schema_version": 1,
     "solution": true
    }
   },
   "outputs": [],
   "source": [
    "# Encodes rating data with continous user and movie ids \n",
    "def encode_data(df):\n",
    "    user2id, user_col, num_users = proc_col(df[\"userId\"])\n",
    "    df[\"userId\"] = user_col\n",
    "    movie2id, movie_col, num_movies = proc_col(df[\"movieId\"])\n",
    "    df[\"movieId\"] = movie_col\n",
    "    return df, num_users, num_movies"
   ]
  },
  {
   "cell_type": "code",
   "execution_count": 17,
   "metadata": {
    "collapsed": true,
    "nbgrader": {
     "grade": false,
     "grade_id": "cell-20524cf964cd86f3",
     "locked": true,
     "schema_version": 1,
     "solution": false
    }
   },
   "outputs": [],
   "source": [
    "df = data[:10].copy()\n",
    "df, num_users, num_movies = encode_data(df)"
   ]
  },
  {
   "cell_type": "code",
   "execution_count": 18,
   "metadata": {},
   "outputs": [
    {
     "data": {
      "text/html": [
       "<div>\n",
       "<style>\n",
       "    .dataframe thead tr:only-child th {\n",
       "        text-align: right;\n",
       "    }\n",
       "\n",
       "    .dataframe thead th {\n",
       "        text-align: left;\n",
       "    }\n",
       "\n",
       "    .dataframe tbody tr th {\n",
       "        vertical-align: top;\n",
       "    }\n",
       "</style>\n",
       "<table border=\"1\" class=\"dataframe\">\n",
       "  <thead>\n",
       "    <tr style=\"text-align: right;\">\n",
       "      <th></th>\n",
       "      <th>userId</th>\n",
       "      <th>movieId</th>\n",
       "      <th>rating</th>\n",
       "      <th>timestamp</th>\n",
       "    </tr>\n",
       "  </thead>\n",
       "  <tbody>\n",
       "    <tr>\n",
       "      <th>0</th>\n",
       "      <td>0</td>\n",
       "      <td>0</td>\n",
       "      <td>2.5</td>\n",
       "      <td>1260759144</td>\n",
       "    </tr>\n",
       "    <tr>\n",
       "      <th>1</th>\n",
       "      <td>0</td>\n",
       "      <td>1</td>\n",
       "      <td>3.0</td>\n",
       "      <td>1260759179</td>\n",
       "    </tr>\n",
       "    <tr>\n",
       "      <th>2</th>\n",
       "      <td>0</td>\n",
       "      <td>2</td>\n",
       "      <td>3.0</td>\n",
       "      <td>1260759182</td>\n",
       "    </tr>\n",
       "    <tr>\n",
       "      <th>3</th>\n",
       "      <td>0</td>\n",
       "      <td>3</td>\n",
       "      <td>2.0</td>\n",
       "      <td>1260759185</td>\n",
       "    </tr>\n",
       "    <tr>\n",
       "      <th>4</th>\n",
       "      <td>0</td>\n",
       "      <td>4</td>\n",
       "      <td>4.0</td>\n",
       "      <td>1260759205</td>\n",
       "    </tr>\n",
       "  </tbody>\n",
       "</table>\n",
       "</div>"
      ],
      "text/plain": [
       "   userId  movieId  rating   timestamp\n",
       "0       0        0     2.5  1260759144\n",
       "1       0        1     3.0  1260759179\n",
       "2       0        2     3.0  1260759182\n",
       "3       0        3     2.0  1260759185\n",
       "4       0        4     4.0  1260759205"
      ]
     },
     "execution_count": 18,
     "metadata": {},
     "output_type": "execute_result"
    }
   ],
   "source": [
    "df.head()"
   ]
  },
  {
   "cell_type": "markdown",
   "metadata": {
    "nbgrader": {
     "grade": false,
     "grade_id": "cell-72490bca925d342a",
     "locked": true,
     "schema_version": 1,
     "solution": false
    }
   },
   "source": [
    "## Initializing parameters"
   ]
  },
  {
   "cell_type": "code",
   "execution_count": 12,
   "metadata": {
    "nbgrader": {
     "grade": false,
     "grade_id": "cell-86cdf4ce1a4fb8f7",
     "locked": true,
     "schema_version": 1,
     "solution": false
    }
   },
   "outputs": [
    {
     "data": {
      "text/plain": [
       "array([[ 3.55790894,  4.69774849,  0.92361109,  1.58739544,  3.00593239],\n",
       "       [ 4.69774849,  7.44656163,  1.18135616,  2.64524868,  4.74559066],\n",
       "       [ 0.92361109,  1.18135616,  0.24548062,  0.34025121,  0.69616965],\n",
       "       [ 1.58739544,  2.64524868,  0.34025121,  1.61561   ,  2.41361975],\n",
       "       [ 3.00593239,  4.74559066,  0.69616965,  2.41361975,  3.82505541],\n",
       "       [ 2.02000808,  3.29656257,  0.43174569,  2.065911  ,  3.07264619],\n",
       "       [ 2.07691001,  3.02887291,  0.53270924,  1.02482544,  1.90251125]])"
      ]
     },
     "execution_count": 12,
     "metadata": {},
     "output_type": "execute_result"
    }
   ],
   "source": [
    "def create_embedings(n, K):\n",
    "    \"\"\" \n",
    "    Create a numpy random matrix of shape n, K\n",
    "    The random matrix should be initialized with uniform values in (0, 6/K)\n",
    "    \"\"\"\n",
    "    np.random.seed(3)\n",
    "    emb = 6*np.random.random((n, K)) / K\n",
    "    return emb\n",
    "\n",
    "# here is an example on how the prediction matrix would look like with 7 users and 5 movies\n",
    "np.dot(create_embedings(7,3), create_embedings(5,3).transpose())"
   ]
  },
  {
   "cell_type": "markdown",
   "metadata": {
    "nbgrader": {
     "grade": false,
     "grade_id": "cell-beef892ffe04476e",
     "locked": true,
     "schema_version": 1,
     "solution": false
    }
   },
   "source": [
    "## Encoding Y as a sparse matrix\n",
    "This code helps you encode a $Y$ as a sparse matrix from the dataframe. "
   ]
  },
  {
   "cell_type": "code",
   "execution_count": 14,
   "metadata": {
    "collapsed": true,
    "nbgrader": {
     "grade": false,
     "grade_id": "cell-147015e836174cf4",
     "locked": true,
     "schema_version": 1,
     "solution": false
    }
   },
   "outputs": [],
   "source": [
    "from scipy import sparse\n",
    "def df2matrix(df, nrows, ncols, column_name=\"rating\"):\n",
    "    \"\"\" \n",
    "    Returns a sparse matrix constructed from a dataframe\n",
    "    This code assumes the df has columns: MovieID,UserID,Rating\n",
    "    \"\"\"\n",
    "    values = df[column_name].values\n",
    "    ind_movie = df['movieId'].values\n",
    "    ind_user = df['userId'].values\n",
    "    return sparse.csc_matrix((values,(ind_user, ind_movie)),shape=(nrows, ncols))"
   ]
  },
  {
   "cell_type": "code",
   "execution_count": 19,
   "metadata": {
    "collapsed": true,
    "nbgrader": {
     "grade": false,
     "grade_id": "cell-18d0b3280aeb27b0",
     "locked": true,
     "schema_version": 1,
     "solution": false
    }
   },
   "outputs": [],
   "source": [
    "df, num_users, num_movies = encode_data(df)\n",
    "Y = df2matrix(df, num_users, num_movies)"
   ]
  },
  {
   "cell_type": "code",
   "execution_count": 20,
   "metadata": {},
   "outputs": [
    {
     "name": "stdout",
     "output_type": "stream",
     "text": [
      "  (0, 0)\t2.5\n",
      "  (0, 1)\t3.0\n",
      "  (0, 2)\t3.0\n",
      "  (0, 3)\t2.0\n",
      "  (0, 4)\t4.0\n",
      "  (0, 5)\t2.0\n",
      "  (0, 6)\t2.0\n",
      "  (0, 7)\t2.0\n",
      "  (0, 8)\t3.5\n",
      "  (0, 9)\t2.0\n"
     ]
    }
   ],
   "source": [
    "print(Y)"
   ]
  },
  {
   "cell_type": "code",
   "execution_count": 21,
   "metadata": {
    "collapsed": true,
    "nbgrader": {
     "grade": false,
     "grade_id": "cell-c59f98d40119c2b1",
     "locked": true,
     "schema_version": 1,
     "solution": false
    }
   },
   "outputs": [],
   "source": [
    "def sparse_multiply(df, emb_user, emb_movie):\n",
    "    \"\"\" \n",
    "    This function returns U*V^T element wise multi by R as a sparse matrix.\n",
    "    It avoids creating the dense matrix U*V^T\n",
    "    \"\"\"\n",
    "    df[\"Prediction\"] = np.sum(emb_user[df[\"userId\"].values]*emb_movie[df[\"movieId\"].values], axis=1)\n",
    "    return df2matrix(df, emb_user.shape[0], emb_movie.shape[0], column_name=\"Prediction\")"
   ]
  },
  {
   "cell_type": "markdown",
   "metadata": {
    "nbgrader": {
     "grade": false,
     "grade_id": "cell-34b067092cd650f9",
     "locked": true,
     "schema_version": 1,
     "solution": false
    }
   },
   "source": [
    "## Calculating the cost function"
   ]
  },
  {
   "cell_type": "code",
   "execution_count": 22,
   "metadata": {
    "collapsed": true,
    "nbgrader": {
     "grade": false,
     "grade_id": "cell-e4b1d37dbcb0c405",
     "locked": false,
     "schema_version": 1,
     "solution": true
    }
   },
   "outputs": [],
   "source": [
    "def cost(df, emb_user, emb_movie):\n",
    "    \"\"\" \n",
    "    Computes mean square error\n",
    "    First compute prediction. Prediction for user i and movie j is\n",
    "    emb_user[i]*emb_movie[j]\n",
    "    \n",
    "    \"\"\"\n",
    "    Y =  df2matrix(df, emb_user.shape[0], emb_movie.shape[0])\n",
    "    Y_pred = sparse_multiply(df, emb_user, emb_movie)\n",
    "    error = ((Y - Y_pred).multiply(Y - Y_pred)).sum()/len(df)\n",
    "    return error"
   ]
  },
  {
   "cell_type": "markdown",
   "metadata": {
    "nbgrader": {
     "grade": false,
     "grade_id": "cell-eecb153a5272d90a",
     "locked": true,
     "schema_version": 1,
     "solution": false
    }
   },
   "source": [
    "## Calculating gradient"
   ]
  },
  {
   "cell_type": "code",
   "execution_count": 27,
   "metadata": {
    "collapsed": true,
    "nbgrader": {
     "grade": false,
     "grade_id": "cell-6da7b90b116a6712",
     "locked": false,
     "schema_version": 1,
     "solution": true
    }
   },
   "outputs": [],
   "source": [
    "def gradient(df, Y, emb_user, emb_movie):\n",
    "    \"\"\" \n",
    "    Computes the gradient.\n",
    "    First compute prediction. Prediction for user i and movie j is\n",
    "    emb_user[i]*emb_movie[j]\n",
    "    \n",
    "    \"\"\"\n",
    "    N = len(df)\n",
    "    Y_pred = sparse_multiply(df, emb_user, emb_movie)\n",
    "    delta = Y - Y_pred\n",
    "    grad_user = - 2 * delta.dot(emb_movie)/N\n",
    "    grad_movie = - 2 * delta.transpose().dot(emb_user)/N\n",
    "    return grad_user, grad_movie"
   ]
  },
  {
   "cell_type": "markdown",
   "metadata": {
    "nbgrader": {
     "grade": false,
     "grade_id": "cell-75a83a0a289d180c",
     "locked": true,
     "schema_version": 1,
     "solution": false
    }
   },
   "source": [
    "## Using gradient descent with momentum"
   ]
  },
  {
   "cell_type": "code",
   "execution_count": 25,
   "metadata": {
    "collapsed": true,
    "nbgrader": {
     "grade": false,
     "grade_id": "cell-ddc48938c215e395",
     "locked": false,
     "schema_version": 1,
     "solution": true
    }
   },
   "outputs": [],
   "source": [
    "def gradient_descent(df, emb_user, emb_movie, iterations=100, learning_rate=0.01, df_val=None):\n",
    "    \"\"\" \n",
    "    Computes gradient descent with momentum (0.9) for a number of iterations.\n",
    "    Prints training cost and validation cost (if df_val is not None) every 50 iterations.\n",
    "    Return the trained user embedding and trained movie embedding\n",
    "    \n",
    "    \"\"\"\n",
    "    Y = df2matrix(df, emb_user.shape[0], emb_movie.shape[0])\n",
    "    val_cost = None\n",
    "    v_user, v_movie = gradient(df, Y, emb_user, emb_movie)\n",
    "    a = 1 \n",
    "    b = .9\n",
    "    for i in range(iterations):\n",
    "        grad_user, grad_movie = gradient(df, Y, emb_user, emb_movie)\n",
    "        v_user = b*v_user + (1-b) * grad_user\n",
    "        v_movie = b*v_movie + (1-b) * grad_movie\n",
    "        emb_user = a*emb_user - learning_rate * v_user\n",
    "        emb_movie = a*emb_movie - learning_rate * v_movie\n",
    "        train_cost = cost(df, emb_user, emb_movie)\n",
    "        if df_val is not None:\n",
    "            val_cost = cost(df_val, emb_user, emb_movie)\n",
    "        if i % 100 == 0:  print(i, train_cost, val_cost)\n",
    "    return emb_user, emb_movie"
   ]
  },
  {
   "cell_type": "markdown",
   "metadata": {
    "nbgrader": {
     "grade": false,
     "grade_id": "cell-7b4ece4b4a308a5f",
     "locked": true,
     "schema_version": 1,
     "solution": false
    }
   },
   "source": [
    "## Predicting on new data\n",
    "To predict ratings on new data, first we write a function that encodes new data. If a new user or item is present that row should be remove. Collaborative Filtering is not good at handling new users or new items. "
   ]
  },
  {
   "cell_type": "code",
   "execution_count": 23,
   "metadata": {
    "collapsed": true,
    "nbgrader": {
     "grade": false,
     "grade_id": "cell-6535ac40f1132e10",
     "locked": false,
     "schema_version": 1,
     "solution": true
    }
   },
   "outputs": [],
   "source": [
    "def proc_col2(col_v, col_t):\n",
    "    uniq = col_t.unique()\n",
    "    name2idx = {o:i for i,o in enumerate(uniq)}\n",
    "    return name2idx, np.array([name2idx.get(x, -1) for x in col_v])\n",
    "\n",
    "def encode_new_data(df_val, df_train):\n",
    "    \"\"\" Encodes df_val with the same encoding as df_train.\"\"\"\n",
    "    user2id, user_col = proc_col2(df_val[\"userId\"], df_train[\"userId\"])\n",
    "    df_val[\"userId\"] = user_col\n",
    "    movie2id, movie_col = proc_col2(df_val[\"movieId\"], df_train[\"movieId\"])\n",
    "    df_val[\"movieId\"] = movie_col\n",
    "    df_val = df_val[df_val[\"userId\"] >= 0]\n",
    "    df_val = df_val[df_val[\"movieId\"] >= 0]\n",
    "    return df_val"
   ]
  },
  {
   "cell_type": "markdown",
   "metadata": {
    "nbgrader": {
     "grade": false,
     "grade_id": "cell-0033372e0e9accd9",
     "locked": true,
     "schema_version": 1,
     "solution": false
    }
   },
   "source": [
    "## Implement the algorithm on the MovieLens data"
   ]
  },
  {
   "cell_type": "code",
   "execution_count": 24,
   "metadata": {},
   "outputs": [
    {
     "name": "stdout",
     "output_type": "stream",
     "text": [
      "20205 19506\n"
     ]
    }
   ],
   "source": [
    "# Randomize data to get a training and validation set\n",
    "np.random.seed(3)\n",
    "msk = np.random.rand(len(data)) < 0.8\n",
    "train = data[msk].copy()\n",
    "val = data[~msk].copy()\n",
    "df_train, num_users, num_movies = encode_data(train.copy())\n",
    "df_val = encode_new_data(val.copy(), train.copy())\n",
    "print(len(val), len(df_val))"
   ]
  },
  {
   "cell_type": "code",
   "execution_count": 28,
   "metadata": {
    "collapsed": true
   },
   "outputs": [
    {
     "name": "stdout",
     "output_type": "stream",
     "text": [
      "0 12.3912697565 12.4972528597\n",
      "100 7.19647749397 7.32717811981\n",
      "200 4.06667286733 4.18644911311\n",
      "300 2.82714856064 2.9265984566\n",
      "400 2.18432213988 2.27357112634\n",
      "500 1.80386825989 1.89004707348\n",
      "600 1.55677647499 1.64321239751\n",
      "700 1.38498356468 1.4733369701\n",
      "800 1.25936026021 1.3505219879\n",
      "900 1.16390352791 1.25838191288\n",
      "1000 1.08913509711 1.18723943047\n",
      "1100 1.02909524861 1.13103033855\n",
      "1200 0.979855196014 1.08577372753\n",
      "1300 0.938723808957 1.04875711586\n",
      "1400 0.90379751299 1.01807454809\n",
      "1500 0.873691981655 0.992351389558\n",
      "1600 0.847375863071 0.970573656415\n",
      "1700 0.824064547736 0.951978612296\n",
      "1800 0.803150671359 0.935982622827\n",
      "1900 0.784157825718 0.92213237287\n",
      "2000 0.766709291974 0.910071121032\n",
      "2100 0.750506620938 0.899514854707\n",
      "2200 0.735314627737 0.89023509517\n",
      "2300 0.720950423194 0.882046251785\n",
      "2400 0.707274806458 0.874796145991\n",
      "2500 0.694184885924 0.86835879239\n",
      "2600 0.681607265684 0.86262883366\n",
      "2700 0.669491535695 0.857517232152\n",
      "2800 0.657804089977 0.852947953691\n",
      "2900 0.646522430493 0.84885545589\n",
      "3000 0.635630113469 0.845182829314\n",
      "3100 0.625112437935 0.841880451281\n",
      "3200 0.614952948931 0.838905015884\n",
      "3300 0.605130857823 0.836218813656\n",
      "3400 0.595619520889 0.833789156225\n",
      "3500 0.586386088646 0.831587873182\n",
      "3600 0.577392309194 0.829590842286\n",
      "3700 0.56859628065 0.827777541791\n",
      "3800 0.559954785899 0.826130629889\n",
      "3900 0.55142577738 0.824635561087\n",
      "4000 0.542970626393 0.823280246112\n",
      "4100 0.53455587548 0.822054755506\n",
      "4200 0.526154378354 0.820951061108\n",
      "4300 0.517745834334 0.819962806234\n",
      "4400 0.509316802182 0.819085094771\n",
      "4500 0.500860312225 0.818314291033\n",
      "4600 0.492375198162 0.817647824977\n",
      "4700 0.483865255516 0.8170840005\n",
      "4800 0.475338313466 0.816621807275\n",
      "4900 0.466805287324 0.816260738684\n"
     ]
    }
   ],
   "source": [
    "K = 50\n",
    "emb_user = create_embedings(num_users, K)\n",
    "emb_movie = create_embedings(num_movies, K)\n",
    "emb_user, emb_movie = gradient_descent(df_train, emb_user, emb_movie, iterations=5000, learning_rate=1, df_val=df_val)"
   ]
  },
  {
   "cell_type": "code",
   "execution_count": 29,
   "metadata": {},
   "outputs": [
    {
     "name": "stdout",
     "output_type": "stream",
     "text": [
      "0.458364441491 0.816002721257\n"
     ]
    }
   ],
   "source": [
    "train_mse = cost(df_train, emb_user, emb_movie)\n",
    "val_mse = cost(df_val, emb_user, emb_movie)\n",
    "print(train_mse, val_mse)"
   ]
  },
  {
   "cell_type": "code",
   "execution_count": null,
   "metadata": {
    "collapsed": true
   },
   "outputs": [],
   "source": []
  }
 ],
 "metadata": {
  "celltoolbar": "Create Assignment",
  "kernelspec": {
   "display_name": "Python 3",
   "language": "python",
   "name": "python3"
  },
  "language_info": {
   "codemirror_mode": {
    "name": "ipython",
    "version": 3
   },
   "file_extension": ".py",
   "mimetype": "text/x-python",
   "name": "python",
   "nbconvert_exporter": "python",
   "pygments_lexer": "ipython3",
   "version": "3.6.2"
  },
  "latex_envs": {
   "bibliofile": "biblio.bib",
   "cite_by": "apalike",
   "current_citInitial": 1,
   "eqLabelWithNumbers": true,
   "eqNumInitial": 0
  },
  "toc": {
   "nav_menu": {},
   "number_sections": true,
   "sideBar": true,
   "skip_h1_title": false,
   "toc_cell": false,
   "toc_position": {},
   "toc_section_display": "block",
   "toc_window_display": false
  }
 },
 "nbformat": 4,
 "nbformat_minor": 2
}
