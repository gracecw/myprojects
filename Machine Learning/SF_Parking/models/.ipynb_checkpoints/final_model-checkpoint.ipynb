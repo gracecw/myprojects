{
 "cells": [
  {
   "cell_type": "code",
   "execution_count": 2,
   "metadata": {
    "collapsed": true
   },
   "outputs": [],
   "source": [
    "import pandas as pd\n",
    "import numpy as np\n",
    "import warnings\n",
    "warnings.filterwarnings(\"ignore\")"
   ]
  },
  {
   "cell_type": "code",
   "execution_count": 3,
   "metadata": {},
   "outputs": [],
   "source": [
    "train = pd.read_csv('../data/train-parking.csv', parse_dates=[[3,4]], infer_datetime_format=True)\n",
    "test=pd.read_csv('../data/test-no-label-parking.csv', parse_dates=[[3,4]], infer_datetime_format=True)\n",
    "valid_swhg = pd.read_csv('../data/valid_swhg.csv', infer_datetime_format=True, index_col='index').set_index('index.1')"
   ]
  },
  {
   "cell_type": "code",
   "execution_count": 4,
   "metadata": {
    "collapsed": true
   },
   "outputs": [],
   "source": [
    "#Join with features generated from parking data\n",
    "parkrec = pd.read_csv('../data/park_tojoin.csv')\n",
    "pr_test=pd.read_csv('../data/park_tojoin_test.csv')\n",
    "\n",
    "train['daily_mean_freq'] = parkrec['daily_avg_freq']\n",
    "train['dow_mean_freq'] = parkrec['dow_avg_freq']\n",
    "\n",
    "test['daily_mean_freq'] = pr_test['daily_avg_freq']\n",
    "test['dow_mean_freq'] = pr_test['dow_avg_freq']"
   ]
  },
  {
   "cell_type": "code",
   "execution_count": 5,
   "metadata": {
    "scrolled": true
   },
   "outputs": [
    {
     "data": {
      "text/html": [
       "<div>\n",
       "<style>\n",
       "    .dataframe thead tr:only-child th {\n",
       "        text-align: right;\n",
       "    }\n",
       "\n",
       "    .dataframe thead th {\n",
       "        text-align: left;\n",
       "    }\n",
       "\n",
       "    .dataframe tbody tr th {\n",
       "        vertical-align: top;\n",
       "    }\n",
       "</style>\n",
       "<table border=\"1\" class=\"dataframe\">\n",
       "  <thead>\n",
       "    <tr style=\"text-align: right;\">\n",
       "      <th></th>\n",
       "      <th>Date_Time</th>\n",
       "      <th>Street</th>\n",
       "      <th>From</th>\n",
       "      <th>To</th>\n",
       "      <th>Real.Spots</th>\n",
       "      <th>Street.Length</th>\n",
       "      <th>any_spot</th>\n",
       "      <th>daily_mean_freq</th>\n",
       "      <th>dow_mean_freq</th>\n",
       "    </tr>\n",
       "  </thead>\n",
       "  <tbody>\n",
       "    <tr>\n",
       "      <th>0</th>\n",
       "      <td>2014-01-07 16:19:00</td>\n",
       "      <td>Mission Street</td>\n",
       "      <td>25th Street</td>\n",
       "      <td>26th Street</td>\n",
       "      <td>4</td>\n",
       "      <td>179.132970</td>\n",
       "      <td>1</td>\n",
       "      <td>168.727273</td>\n",
       "      <td>204.250000</td>\n",
       "    </tr>\n",
       "    <tr>\n",
       "      <th>1</th>\n",
       "      <td>2014-01-18 20:42:00</td>\n",
       "      <td>Polk Street</td>\n",
       "      <td>Ellis Street</td>\n",
       "      <td>Olive Street</td>\n",
       "      <td>0</td>\n",
       "      <td>52.740210</td>\n",
       "      <td>0</td>\n",
       "      <td>85.750000</td>\n",
       "      <td>100.333333</td>\n",
       "    </tr>\n",
       "    <tr>\n",
       "      <th>2</th>\n",
       "      <td>2014-01-18 20:39:00</td>\n",
       "      <td>Van Ness Avenue</td>\n",
       "      <td>Geary Boulevard</td>\n",
       "      <td>Myrtle Street</td>\n",
       "      <td>0</td>\n",
       "      <td>52.517840</td>\n",
       "      <td>0</td>\n",
       "      <td>35.090909</td>\n",
       "      <td>43.333333</td>\n",
       "    </tr>\n",
       "    <tr>\n",
       "      <th>3</th>\n",
       "      <td>2014-01-18 20:38:00</td>\n",
       "      <td>Van Ness Avenue</td>\n",
       "      <td>Bush Street</td>\n",
       "      <td>Fern Street</td>\n",
       "      <td>0</td>\n",
       "      <td>52.405315</td>\n",
       "      <td>0</td>\n",
       "      <td>111.090909</td>\n",
       "      <td>141.333333</td>\n",
       "    </tr>\n",
       "    <tr>\n",
       "      <th>4</th>\n",
       "      <td>2014-01-18 20:38:00</td>\n",
       "      <td>Van Ness Avenue</td>\n",
       "      <td>Daniel Burnham Court</td>\n",
       "      <td>Post Street</td>\n",
       "      <td>0</td>\n",
       "      <td>52.191193</td>\n",
       "      <td>0</td>\n",
       "      <td>47.526316</td>\n",
       "      <td>53.000000</td>\n",
       "    </tr>\n",
       "  </tbody>\n",
       "</table>\n",
       "</div>"
      ],
      "text/plain": [
       "            Date_Time           Street                  From             To  \\\n",
       "0 2014-01-07 16:19:00   Mission Street           25th Street    26th Street   \n",
       "1 2014-01-18 20:42:00      Polk Street          Ellis Street   Olive Street   \n",
       "2 2014-01-18 20:39:00  Van Ness Avenue       Geary Boulevard  Myrtle Street   \n",
       "3 2014-01-18 20:38:00  Van Ness Avenue           Bush Street    Fern Street   \n",
       "4 2014-01-18 20:38:00  Van Ness Avenue  Daniel Burnham Court    Post Street   \n",
       "\n",
       "   Real.Spots  Street.Length  any_spot  daily_mean_freq  dow_mean_freq  \n",
       "0           4     179.132970         1       168.727273     204.250000  \n",
       "1           0      52.740210         0        85.750000     100.333333  \n",
       "2           0      52.517840         0        35.090909      43.333333  \n",
       "3           0      52.405315         0       111.090909     141.333333  \n",
       "4           0      52.191193         0        47.526316      53.000000  "
      ]
     },
     "execution_count": 5,
     "metadata": {},
     "output_type": "execute_result"
    }
   ],
   "source": [
    "train.head()"
   ]
  },
  {
   "cell_type": "markdown",
   "metadata": {},
   "source": [
    "##### Get the proper train and validation set"
   ]
  },
  {
   "cell_type": "code",
   "execution_count": 6,
   "metadata": {
    "collapsed": true
   },
   "outputs": [],
   "source": [
    "train_swhg = train[~train.index.isin(valid_swhg.index)]\n",
    "valid_swhg = train[train.index.isin(valid_swhg.index)]"
   ]
  },
  {
   "cell_type": "markdown",
   "metadata": {},
   "source": [
    "## Run with validation set to select features and hyper-parameters"
   ]
  },
  {
   "cell_type": "markdown",
   "metadata": {},
   "source": [
    "#### Add the lat & lng to training set, the geocoding was done seperately and the result was saved in data folder"
   ]
  },
  {
   "cell_type": "code",
   "execution_count": 7,
   "metadata": {
    "collapsed": true
   },
   "outputs": [],
   "source": [
    "# get long and lat for train street\n",
    "st_latlng = pd.read_csv(\"../data/train_longlat.csv\", index_col = False,  dtype = {'lat':np.float64,'lng':np.float64})"
   ]
  },
  {
   "cell_type": "code",
   "execution_count": 8,
   "metadata": {
    "collapsed": true
   },
   "outputs": [],
   "source": [
    "train_swhg = pd.merge(train_swhg,st_latlng,how ='left',left_on=[\"Street\",\"From\",\"To\"], right_on=[\"Street\",\"From\",\"To\"])\n",
    "valid_swhg= pd.merge(valid_swhg,st_latlng,how ='left',left_on=[\"Street\",\"From\",\"To\"], right_on=[\"Street\",\"From\",\"To\"])"
   ]
  },
  {
   "cell_type": "code",
   "execution_count": 9,
   "metadata": {
    "scrolled": true
   },
   "outputs": [
    {
     "data": {
      "text/html": [
       "<div>\n",
       "<style>\n",
       "    .dataframe thead tr:only-child th {\n",
       "        text-align: right;\n",
       "    }\n",
       "\n",
       "    .dataframe thead th {\n",
       "        text-align: left;\n",
       "    }\n",
       "\n",
       "    .dataframe tbody tr th {\n",
       "        vertical-align: top;\n",
       "    }\n",
       "</style>\n",
       "<table border=\"1\" class=\"dataframe\">\n",
       "  <thead>\n",
       "    <tr style=\"text-align: right;\">\n",
       "      <th></th>\n",
       "      <th>Date_Time</th>\n",
       "      <th>Street</th>\n",
       "      <th>From</th>\n",
       "      <th>To</th>\n",
       "      <th>Real.Spots</th>\n",
       "      <th>Street.Length</th>\n",
       "      <th>any_spot</th>\n",
       "      <th>daily_mean_freq</th>\n",
       "      <th>dow_mean_freq</th>\n",
       "      <th>lat</th>\n",
       "      <th>lng</th>\n",
       "    </tr>\n",
       "  </thead>\n",
       "  <tbody>\n",
       "    <tr>\n",
       "      <th>0</th>\n",
       "      <td>2014-01-07 16:19:00</td>\n",
       "      <td>Mission Street</td>\n",
       "      <td>25th Street</td>\n",
       "      <td>26th Street</td>\n",
       "      <td>4</td>\n",
       "      <td>179.132970</td>\n",
       "      <td>1</td>\n",
       "      <td>168.727273</td>\n",
       "      <td>204.250000</td>\n",
       "      <td>37.750648</td>\n",
       "      <td>-122.418316</td>\n",
       "    </tr>\n",
       "    <tr>\n",
       "      <th>1</th>\n",
       "      <td>2014-01-18 20:42:00</td>\n",
       "      <td>Polk Street</td>\n",
       "      <td>Ellis Street</td>\n",
       "      <td>Olive Street</td>\n",
       "      <td>0</td>\n",
       "      <td>52.740210</td>\n",
       "      <td>0</td>\n",
       "      <td>85.750000</td>\n",
       "      <td>100.333333</td>\n",
       "      <td>37.784040</td>\n",
       "      <td>-122.419381</td>\n",
       "    </tr>\n",
       "    <tr>\n",
       "      <th>2</th>\n",
       "      <td>2014-01-18 20:38:00</td>\n",
       "      <td>Van Ness Avenue</td>\n",
       "      <td>Bush Street</td>\n",
       "      <td>Fern Street</td>\n",
       "      <td>0</td>\n",
       "      <td>52.405315</td>\n",
       "      <td>0</td>\n",
       "      <td>111.090909</td>\n",
       "      <td>141.333333</td>\n",
       "      <td>37.788499</td>\n",
       "      <td>-122.421892</td>\n",
       "    </tr>\n",
       "    <tr>\n",
       "      <th>3</th>\n",
       "      <td>2014-01-18 20:38:00</td>\n",
       "      <td>Van Ness Avenue</td>\n",
       "      <td>Daniel Burnham Court</td>\n",
       "      <td>Post Street</td>\n",
       "      <td>0</td>\n",
       "      <td>52.191193</td>\n",
       "      <td>0</td>\n",
       "      <td>47.526316</td>\n",
       "      <td>53.000000</td>\n",
       "      <td>37.787084</td>\n",
       "      <td>-122.421757</td>\n",
       "    </tr>\n",
       "    <tr>\n",
       "      <th>4</th>\n",
       "      <td>2014-01-18 20:20:00</td>\n",
       "      <td>Larkin Street</td>\n",
       "      <td>Cedar Street</td>\n",
       "      <td>Post Street</td>\n",
       "      <td>0</td>\n",
       "      <td>52.324250</td>\n",
       "      <td>0</td>\n",
       "      <td>24.300000</td>\n",
       "      <td>20.666667</td>\n",
       "      <td>37.786592</td>\n",
       "      <td>-122.418214</td>\n",
       "    </tr>\n",
       "  </tbody>\n",
       "</table>\n",
       "</div>"
      ],
      "text/plain": [
       "            Date_Time           Street                  From            To  \\\n",
       "0 2014-01-07 16:19:00   Mission Street           25th Street   26th Street   \n",
       "1 2014-01-18 20:42:00      Polk Street          Ellis Street  Olive Street   \n",
       "2 2014-01-18 20:38:00  Van Ness Avenue           Bush Street   Fern Street   \n",
       "3 2014-01-18 20:38:00  Van Ness Avenue  Daniel Burnham Court   Post Street   \n",
       "4 2014-01-18 20:20:00    Larkin Street          Cedar Street   Post Street   \n",
       "\n",
       "   Real.Spots  Street.Length  any_spot  daily_mean_freq  dow_mean_freq  \\\n",
       "0           4     179.132970         1       168.727273     204.250000   \n",
       "1           0      52.740210         0        85.750000     100.333333   \n",
       "2           0      52.405315         0       111.090909     141.333333   \n",
       "3           0      52.191193         0        47.526316      53.000000   \n",
       "4           0      52.324250         0        24.300000      20.666667   \n",
       "\n",
       "         lat         lng  \n",
       "0  37.750648 -122.418316  \n",
       "1  37.784040 -122.419381  \n",
       "2  37.788499 -122.421892  \n",
       "3  37.787084 -122.421757  \n",
       "4  37.786592 -122.418214  "
      ]
     },
     "execution_count": 9,
     "metadata": {},
     "output_type": "execute_result"
    }
   ],
   "source": [
    "train_swhg.head()"
   ]
  },
  {
   "cell_type": "markdown",
   "metadata": {},
   "source": [
    "#### Load aggregated sensor data"
   ]
  },
  {
   "cell_type": "code",
   "execution_count": 10,
   "metadata": {
    "collapsed": true
   },
   "outputs": [],
   "source": [
    "# sensor related data\n",
    "sensor = pd.read_csv('../data/aggregated_sensor.csv')"
   ]
  },
  {
   "cell_type": "code",
   "execution_count": 11,
   "metadata": {
    "collapsed": true
   },
   "outputs": [],
   "source": [
    "sensor['TIME_OF_DAY'] = sensor['TIME_OF_DAY']/100\n",
    "sensor['TIME_OF_DAY'] = sensor['TIME_OF_DAY'].astype('int')"
   ]
  },
  {
   "cell_type": "markdown",
   "metadata": {},
   "source": [
    "#### Geo-clustering train & test by lat&lng"
   ]
  },
  {
   "cell_type": "code",
   "execution_count": 12,
   "metadata": {
    "collapsed": true
   },
   "outputs": [],
   "source": [
    "# Clustering\n",
    "from sklearn.cluster import KMeans\n",
    "spots = np.vstack(train_swhg[['lat','lng']].values)\n",
    "kmeans = KMeans().fit(spots)\n",
    "train_swhg['street_cluster'] = kmeans.predict(train_swhg[['lat', 'lng']])\n",
    "valid_swhg['street_cluster'] = kmeans.predict(valid_swhg[['lat', 'lng']])"
   ]
  },
  {
   "cell_type": "markdown",
   "metadata": {},
   "source": [
    "#### Get time features"
   ]
  },
  {
   "cell_type": "code",
   "execution_count": 13,
   "metadata": {
    "collapsed": true
   },
   "outputs": [],
   "source": [
    "# Time features\n",
    "train_swhg['Minute'] = train_swhg.Date_Time.dt.minute\n",
    "valid_swhg['Minute'] = pd.to_datetime(valid_swhg['Date_Time']).dt.minute\n",
    "train_swhg['Hour'] = train_swhg.Date_Time.dt.hour\n",
    "valid_swhg['Hour'] = pd.to_datetime(valid_swhg['Date_Time']).dt.hour\n",
    "train_swhg['Dow'] = train_swhg.Date_Time.dt.weekday\n",
    "valid_swhg['Dow'] = pd.to_datetime(valid_swhg['Date_Time']).dt.weekday"
   ]
  },
  {
   "cell_type": "code",
   "execution_count": 14,
   "metadata": {
    "collapsed": true
   },
   "outputs": [],
   "source": [
    "# Convert the time (Hour, Minute) to a numerical value XXXX\n",
    "train_swhg['Time'] = train_swhg[\"Hour\"]*100 + train_swhg['Minute']\n",
    "valid_swhg['Time'] = valid_swhg[\"Hour\"]*100 + valid_swhg['Minute']"
   ]
  },
  {
   "cell_type": "code",
   "execution_count": 15,
   "metadata": {
    "collapsed": true
   },
   "outputs": [],
   "source": [
    "def day_type(x):\n",
    "    if x == 6 or x == 0:\n",
    "        return 1\n",
    "    else:\n",
    "        return 0\n",
    "    \n",
    "train_swhg['isweekend'] = train_swhg['Dow'].apply(day_type)\n",
    "valid_swhg['isweekend'] = valid_swhg['Dow'].apply(day_type)"
   ]
  },
  {
   "cell_type": "markdown",
   "metadata": {},
   "source": [
    "#### Mean encoding of target variables"
   ]
  },
  {
   "cell_type": "code",
   "execution_count": 16,
   "metadata": {
    "collapsed": true
   },
   "outputs": [],
   "source": [
    "# Single mean encoding target\n",
    "from sklearn.model_selection import KFold\n",
    "\n",
    "def multi_reg_mean_encoding(train, cols, splits =5):\n",
    "    kf = KFold(n_splits = splits)\n",
    "    global_mean = train.any_spot.mean()\n",
    "    \n",
    "    for col in cols:\n",
    "        means = train.groupby(col).any_spot.mean()\n",
    "        train[col+'_mean_enc'] = train[col].map(means)        \n",
    "        for tr_ind,val_ind in kf.split(train):\n",
    "            tr,val = train.iloc[tr_ind],train.iloc[val_ind]\n",
    "            foldmeans = tr.groupby(col).any_spot.mean()\n",
    "            train.loc[val_ind,col+\"_mean_enc\"] = train.loc[val_ind,col].map(foldmeans)    \n",
    "        train[col+\"_mean_enc\"].fillna(global_mean,inplace=True)   \n",
    "        \n",
    "#mean encoding for validation and test data\n",
    "def multi_test_mean_encoding(test, train, cols):\n",
    "    for col in cols:\n",
    "        global_mean = train.any_spot.mean()\n",
    "        means = train.groupby(col).any_spot.mean()\n",
    "        test[col+\"_mean_enc\"] = test[col].map(means)\n",
    "        test[col+\"_mean_enc\"].fillna(global_mean, inplace=True)"
   ]
  },
  {
   "cell_type": "markdown",
   "metadata": {},
   "source": [
    "#### Mean encoding real spots"
   ]
  },
  {
   "cell_type": "code",
   "execution_count": 17,
   "metadata": {
    "collapsed": true
   },
   "outputs": [],
   "source": [
    "# Single mean encoding real.spots\n",
    "\n",
    "def realspot_mean_encoding(train, cols, splits =5):\n",
    "    kf = KFold(n_splits = splits)\n",
    "    global_mean = train['Real.Spots'].mean()\n",
    "    \n",
    "    for col in cols:\n",
    "        means = train.groupby(col)['Real.Spots'].mean()\n",
    "        train[col+'_realspot_enc'] = train[col].map(means)        \n",
    "        for tr_ind,val_ind in kf.split(train):\n",
    "            tr,val = train.iloc[tr_ind],train.iloc[val_ind]\n",
    "            foldmeans = tr.groupby(col)['Real.Spots'].mean()\n",
    "            train.loc[val_ind,col+\"_realspot_enc\"] = train.loc[val_ind,col].map(foldmeans)    \n",
    "        train[col+\"_realspot_enc\"].fillna(global_mean,inplace=True)   \n",
    "        \n",
    "#mean encoding for validation and test data\n",
    "def realspot_test_mean_encoding(test, train, cols):\n",
    "    for col in cols:\n",
    "        global_mean = train['Real.Spots'].mean()\n",
    "        means = train.groupby(col)['Real.Spots'].mean()\n",
    "        test[col+\"_realspot_enc\"] = test[col].map(means)\n",
    "        test[col+\"_realspot_enc\"].fillna(global_mean, inplace=True)"
   ]
  },
  {
   "cell_type": "code",
   "execution_count": 18,
   "metadata": {
    "collapsed": true
   },
   "outputs": [],
   "source": [
    "#create a column for From_To pair\n",
    "train_swhg['From_To'] = train_swhg['From'] + '_' + train_swhg['To']\n",
    "valid_swhg['From_To'] = valid_swhg['From'] + '_' + valid_swhg['To']"
   ]
  },
  {
   "cell_type": "code",
   "execution_count": 19,
   "metadata": {
    "collapsed": true
   },
   "outputs": [],
   "source": [
    "cols = ['Dow','isweekend','From_To','Street','Hour', 'street_cluster' ]\n",
    "multi_reg_mean_encoding(train_swhg, cols, splits =5)\n",
    "multi_test_mean_encoding(valid_swhg, train_swhg, cols)"
   ]
  },
  {
   "cell_type": "code",
   "execution_count": 20,
   "metadata": {
    "collapsed": true
   },
   "outputs": [],
   "source": [
    "# Double variable mean encoding\n",
    "colpairs = [('street_cluster','Dow'),('Dow','Hour'), ('street_cluster','Hour'),\n",
    "            ('street_cluster','isweekend'),('From_To','Dow'),('From_To','Hour')]\n",
    "pairlist = []\n",
    "for pair in colpairs:\n",
    "    colname = pair[0] + '_' + pair[1]\n",
    "    pairlist.append(colname)\n",
    "    train_swhg[colname] = list(zip(train_swhg[pair[0]], train_swhg[pair[1]]))\n",
    "    valid_swhg[colname] = list(zip(valid_swhg[pair[0]], valid_swhg[pair[1]]))"
   ]
  },
  {
   "cell_type": "code",
   "execution_count": 21,
   "metadata": {
    "collapsed": true
   },
   "outputs": [],
   "source": [
    "multi_reg_mean_encoding(train_swhg, pairlist, splits =5)\n",
    "multi_test_mean_encoding(valid_swhg, train_swhg, pairlist)"
   ]
  },
  {
   "cell_type": "code",
   "execution_count": 22,
   "metadata": {
    "collapsed": true
   },
   "outputs": [],
   "source": [
    "pairlist2= ['Street','From_To','street_cluster_Hour','From_To_Dow','From_To_Hour']\n",
    "realspot_mean_encoding(train_swhg, pairlist2, splits =5)\n",
    "realspot_test_mean_encoding(valid_swhg, train_swhg, pairlist2)"
   ]
  },
  {
   "cell_type": "code",
   "execution_count": 23,
   "metadata": {},
   "outputs": [],
   "source": [
    "#drop Data_Time, Real.Spots, street_cluster_Dow, Dow_Hour, street_cluster_Hour, street_cluster_isweekend, From_To_Dow, From_To_Hour\n",
    "train_swhg = train_swhg.drop(['Date_Time','Real.Spots', 'street_cluster_Dow', 'Dow_Hour', 'street_cluster_Hour', 'street_cluster_isweekend', 'From_To_Dow', 'From_To_Hour','Minute'], axis =1)\n",
    "valid_swhg = valid_swhg.drop(['Date_Time', 'Real.Spots', 'street_cluster_Dow', 'Dow_Hour', 'street_cluster_Hour', 'street_cluster_isweekend', 'From_To_Dow', 'From_To_Hour','Minute'], axis = 1)"
   ]
  },
  {
   "cell_type": "markdown",
   "metadata": {},
   "source": [
    "#### Process data formating to join with sensor"
   ]
  },
  {
   "cell_type": "code",
   "execution_count": 24,
   "metadata": {
    "collapsed": true
   },
   "outputs": [],
   "source": [
    "train_swhg['Street'] = train_swhg.Street.str.lower()\n",
    "train_swhg['From'] = train_swhg.From.str.lower()\n",
    "train_swhg['To'] = train_swhg.To.str.lower()\n",
    "valid_swhg['Street'] = valid_swhg.Street.str.lower()\n",
    "valid_swhg['From'] = valid_swhg.From.str.lower()\n",
    "valid_swhg['To'] = valid_swhg.To.str.lower()"
   ]
  },
  {
   "cell_type": "code",
   "execution_count": 25,
   "metadata": {
    "collapsed": true
   },
   "outputs": [],
   "source": [
    "# Join sensor data:\n",
    "train_swhg = pd.merge(train_swhg,sensor, how='left',left_on=['Street','Dow','Hour'], right_on=['STREET_NAME','DOW','TIME_OF_DAY'])\n",
    "valid_swhg = pd.merge(valid_swhg,sensor, how='left',left_on=['Street','Dow','Hour'], right_on=['STREET_NAME','DOW','TIME_OF_DAY'])\n",
    "\n",
    "train_swhg = train_swhg.drop(['STREET_NAME','DOW','TIME_OF_DAY'],axis =1)\n",
    "valid_swhg = valid_swhg.drop(['STREET_NAME','DOW','TIME_OF_DAY'],axis =1)"
   ]
  },
  {
   "cell_type": "markdown",
   "metadata": {},
   "source": [
    "#### Converting categorical variables to numeric encoding"
   ]
  },
  {
   "cell_type": "code",
   "execution_count": 26,
   "metadata": {
    "collapsed": true
   },
   "outputs": [],
   "source": [
    "# convert categorical variables to code\n",
    "def process_dfs(train_df, test_df, cols):\n",
    "    # transfer categorical \n",
    "    for name in cols:\n",
    "        train_df[name]=train_df[name].astype('category').cat.as_ordered()\n",
    "        test_df[name] = pd.Categorical(test_df[name], categories=train_df[name].cat.categories, ordered=True)\n",
    "    return train_df, test_df\n",
    "  \n",
    "def cat2code(train_df, test_df, cols):\n",
    "    # transfer categorical \n",
    "    for name in cols:\n",
    "        train_df[name]= train_df[name].cat.codes\n",
    "        test_df[name] = test_df[name].cat.codes\n",
    "    return train_df, test_df"
   ]
  },
  {
   "cell_type": "code",
   "execution_count": 27,
   "metadata": {
    "collapsed": true
   },
   "outputs": [],
   "source": [
    "catcols = ['Street','From','To', 'From_To']\n",
    "train_swhg,valid_swhg = process_dfs(train_swhg.copy(),valid_swhg.copy(),catcols)\n",
    "train_swhg,valid_swhg = cat2code(train_swhg,valid_swhg,catcols)"
   ]
  },
  {
   "cell_type": "markdown",
   "metadata": {},
   "source": [
    "####  Split response variable"
   ]
  },
  {
   "cell_type": "code",
   "execution_count": 28,
   "metadata": {
    "collapsed": true
   },
   "outputs": [],
   "source": [
    "# split X and y\n",
    "def split_response(df, response):\n",
    "    y = df[response].values\n",
    "    df.drop([response],axis=1,inplace=True)\n",
    "    return df,y"
   ]
  },
  {
   "cell_type": "code",
   "execution_count": 29,
   "metadata": {
    "collapsed": true
   },
   "outputs": [],
   "source": [
    "X_train_swhg,y_train_swhg = split_response(train_swhg.copy(),'any_spot')\n",
    "X_valid_swhg,y_valid_swhg = split_response(valid_swhg.copy(),'any_spot')"
   ]
  },
  {
   "cell_type": "markdown",
   "metadata": {},
   "source": [
    "#### Self-define F0.5 score function"
   ]
  },
  {
   "cell_type": "code",
   "execution_count": 30,
   "metadata": {
    "collapsed": true
   },
   "outputs": [],
   "source": [
    "def f05_score_soft(labels, preds):\n",
    "    tp = np.sum((labels==(preds>0.5)) & (labels==1))\n",
    "    tn = np.sum((labels==(preds<0.5)) & (labels==0))\n",
    "    fp = np.sum((preds>0.5))-tp\n",
    "    fn = np.sum(preds<0.5)-tn\n",
    "    p = tp/(tp+fp)\n",
    "    r = tp/(tp+fn)\n",
    "    score = 1.25*p*r/(0.25*p+r)\n",
    "    return score\n",
    "\n",
    "def f05_score_hard(labels, preds):\n",
    "    tp = np.sum((labels==preds) & (labels==1))\n",
    "    tn = np.sum((labels==preds) & (labels==0))\n",
    "    fp = np.sum(preds==1)-tp\n",
    "    fn = np.sum(preds==0)-tn\n",
    "#    print(tp, tn, fp, fn)\n",
    "    p = tp*1.0/(tp+fp)\n",
    "    r = tp*1.0/(tp+fn)\n",
    "    score = 1.25*p*r/(0.25*p+r)\n",
    "    return score"
   ]
  },
  {
   "cell_type": "markdown",
   "metadata": {},
   "source": [
    "#### Grid Search for best hyper parameter"
   ]
  },
  {
   "cell_type": "code",
   "execution_count": 31,
   "metadata": {
    "collapsed": true
   },
   "outputs": [],
   "source": [
    "# Manual gridsearch using validation set\n",
    "from sklearn.ensemble import RandomForestClassifier\n",
    "from sklearn.metrics import precision_score, recall_score, accuracy_score\n",
    "import itertools\n",
    "\n",
    "n_estimators = [20, 40, 60, 80]\n",
    "max_depth = [3,5,10,15,20,25,30]\n",
    "max_features = [0.2,0.4,0.5,0.6,0.8,0.9,1]\n",
    "weight = [0.7, 0.8, 0.9, 1, 1.1, 1.2, 1.3, 1.4, 1.5]\n",
    "para_lists = [n_estimators, max_depth, max_features, weight]\n",
    "combo = list(itertools.product(*para_lists))"
   ]
  },
  {
   "cell_type": "code",
   "execution_count": 88,
   "metadata": {
    "collapsed": true
   },
   "outputs": [],
   "source": [
    "parameters = []\n",
    "f05 = []\n",
    "precision = []\n",
    "recall = []\n",
    "\n",
    "for p in combo:\n",
    "    np.random.seed(42)\n",
    "    m = RandomForestClassifier(n_estimators = p[0], max_depth =p[1], max_features=p[2],class_weight={0:1,1:p[3]}, min_samples_split = 2, n_jobs=-1)\n",
    "    m.fit(X_train_swhg,y_train_swhg)\n",
    "    pred = m.predict(X_valid_swhg)\n",
    "    prec = precision_score(y_valid_swhg, pred)\n",
    "    rec = recall_score(y_valid_swhg, pred)\n",
    "    f = f05_score_hard(y_valid_swhg, pred)\n",
    "    parameters.append(p)\n",
    "    f05.append(f)\n",
    "    precision.append(prec)\n",
    "    recall.append(rec)\n",
    "\n",
    "table3 = pd.DataFrame({'Parameters': parameters, 'f0.5': f05, 'precision':precision, 'recall':recall})"
   ]
  },
  {
   "cell_type": "code",
   "execution_count": 89,
   "metadata": {
    "collapsed": true
   },
   "outputs": [],
   "source": [
    "table3.sort_values('f0.5', ascending=False, inplace=True)"
   ]
  },
  {
   "cell_type": "code",
   "execution_count": 90,
   "metadata": {},
   "outputs": [
    {
     "data": {
      "text/html": [
       "<div>\n",
       "<style>\n",
       "    .dataframe thead tr:only-child th {\n",
       "        text-align: right;\n",
       "    }\n",
       "\n",
       "    .dataframe thead th {\n",
       "        text-align: left;\n",
       "    }\n",
       "\n",
       "    .dataframe tbody tr th {\n",
       "        vertical-align: top;\n",
       "    }\n",
       "</style>\n",
       "<table border=\"1\" class=\"dataframe\">\n",
       "  <thead>\n",
       "    <tr style=\"text-align: right;\">\n",
       "      <th></th>\n",
       "      <th>Parameters</th>\n",
       "      <th>f0.5</th>\n",
       "      <th>precision</th>\n",
       "      <th>recall</th>\n",
       "    </tr>\n",
       "  </thead>\n",
       "  <tbody>\n",
       "    <tr>\n",
       "      <th>1186</th>\n",
       "      <td>(60, 20, 0.9, 1.4)</td>\n",
       "      <td>0.581395</td>\n",
       "      <td>0.666667</td>\n",
       "      <td>0.384615</td>\n",
       "    </tr>\n",
       "    <tr>\n",
       "      <th>1312</th>\n",
       "      <td>(60, 30, 0.9, 1.4)</td>\n",
       "      <td>0.581395</td>\n",
       "      <td>0.666667</td>\n",
       "      <td>0.384615</td>\n",
       "    </tr>\n",
       "    <tr>\n",
       "      <th>1249</th>\n",
       "      <td>(60, 25, 0.9, 1.4)</td>\n",
       "      <td>0.581395</td>\n",
       "      <td>0.666667</td>\n",
       "      <td>0.384615</td>\n",
       "    </tr>\n",
       "    <tr>\n",
       "      <th>258</th>\n",
       "      <td>(20, 20, 0.2, 1.3)</td>\n",
       "      <td>0.579268</td>\n",
       "      <td>0.678571</td>\n",
       "      <td>0.365385</td>\n",
       "    </tr>\n",
       "    <tr>\n",
       "      <th>214</th>\n",
       "      <td>(20, 15, 0.5, 1.4)</td>\n",
       "      <td>0.576923</td>\n",
       "      <td>0.692308</td>\n",
       "      <td>0.346154</td>\n",
       "    </tr>\n",
       "  </tbody>\n",
       "</table>\n",
       "</div>"
      ],
      "text/plain": [
       "              Parameters      f0.5  precision    recall\n",
       "1186  (60, 20, 0.9, 1.4)  0.581395   0.666667  0.384615\n",
       "1312  (60, 30, 0.9, 1.4)  0.581395   0.666667  0.384615\n",
       "1249  (60, 25, 0.9, 1.4)  0.581395   0.666667  0.384615\n",
       "258   (20, 20, 0.2, 1.3)  0.579268   0.678571  0.365385\n",
       "214   (20, 15, 0.5, 1.4)  0.576923   0.692308  0.346154"
      ]
     },
     "execution_count": 90,
     "metadata": {},
     "output_type": "execute_result"
    }
   ],
   "source": [
    "table3.head()"
   ]
  },
  {
   "cell_type": "code",
   "execution_count": 91,
   "metadata": {
    "collapsed": true
   },
   "outputs": [],
   "source": [
    "# use the best hyperparameters to get feature importance:\n",
    "best = (60, 20, 0.9, 1.4)\n",
    "np.random.seed(42)\n",
    "m2 = RandomForestClassifier(n_estimators = best[0], max_depth =best[1], max_features=best[2], class_weight={0:1,1:best[3]}, min_samples_split = 2, n_jobs=-1)\n",
    "m2.fit(X_train_swhg,y_train_swhg)\n",
    "\n",
    "feat_imp_swhg = pd.DataFrame({\n",
    "    'features': X_train_swhg.columns,\n",
    "    'imp' :m2.feature_importances_\n",
    "})\n",
    "feat_imp_swhg.sort_values(by='imp', inplace=True, ascending=False)"
   ]
  },
  {
   "cell_type": "code",
   "execution_count": 96,
   "metadata": {},
   "outputs": [
    {
     "data": {
      "text/html": [
       "<div>\n",
       "<style>\n",
       "    .dataframe thead tr:only-child th {\n",
       "        text-align: right;\n",
       "    }\n",
       "\n",
       "    .dataframe thead th {\n",
       "        text-align: left;\n",
       "    }\n",
       "\n",
       "    .dataframe tbody tr th {\n",
       "        vertical-align: top;\n",
       "    }\n",
       "</style>\n",
       "<table border=\"1\" class=\"dataframe\">\n",
       "  <thead>\n",
       "    <tr style=\"text-align: right;\">\n",
       "      <th></th>\n",
       "      <th>features</th>\n",
       "      <th>imp</th>\n",
       "    </tr>\n",
       "  </thead>\n",
       "  <tbody>\n",
       "    <tr>\n",
       "      <th>16</th>\n",
       "      <td>From_To_mean_enc</td>\n",
       "      <td>0.099610</td>\n",
       "    </tr>\n",
       "    <tr>\n",
       "      <th>27</th>\n",
       "      <td>From_To_realspot_enc</td>\n",
       "      <td>0.073967</td>\n",
       "    </tr>\n",
       "    <tr>\n",
       "      <th>11</th>\n",
       "      <td>Time</td>\n",
       "      <td>0.065768</td>\n",
       "    </tr>\n",
       "    <tr>\n",
       "      <th>3</th>\n",
       "      <td>Street.Length</td>\n",
       "      <td>0.045386</td>\n",
       "    </tr>\n",
       "    <tr>\n",
       "      <th>5</th>\n",
       "      <td>dow_mean_freq</td>\n",
       "      <td>0.042658</td>\n",
       "    </tr>\n",
       "    <tr>\n",
       "      <th>31</th>\n",
       "      <td>TOTAL_OCCUPIED_TIME_pct</td>\n",
       "      <td>0.034413</td>\n",
       "    </tr>\n",
       "    <tr>\n",
       "      <th>21</th>\n",
       "      <td>Dow_Hour_mean_enc</td>\n",
       "      <td>0.032013</td>\n",
       "    </tr>\n",
       "    <tr>\n",
       "      <th>32</th>\n",
       "      <td>TOTAL_VACANT_TIME_pct</td>\n",
       "      <td>0.030820</td>\n",
       "    </tr>\n",
       "    <tr>\n",
       "      <th>18</th>\n",
       "      <td>Hour_mean_enc</td>\n",
       "      <td>0.023617</td>\n",
       "    </tr>\n",
       "    <tr>\n",
       "      <th>33</th>\n",
       "      <td>TOTAL_UNKNOWN_TIME_pct</td>\n",
       "      <td>0.022298</td>\n",
       "    </tr>\n",
       "    <tr>\n",
       "      <th>20</th>\n",
       "      <td>street_cluster_Dow_mean_enc</td>\n",
       "      <td>0.021785</td>\n",
       "    </tr>\n",
       "    <tr>\n",
       "      <th>2</th>\n",
       "      <td>To</td>\n",
       "      <td>0.021777</td>\n",
       "    </tr>\n",
       "    <tr>\n",
       "      <th>6</th>\n",
       "      <td>lat</td>\n",
       "      <td>0.021206</td>\n",
       "    </tr>\n",
       "    <tr>\n",
       "      <th>38</th>\n",
       "      <td>NONOP_VACANT_TIME_pct</td>\n",
       "      <td>0.020997</td>\n",
       "    </tr>\n",
       "    <tr>\n",
       "      <th>4</th>\n",
       "      <td>daily_mean_freq</td>\n",
       "      <td>0.020553</td>\n",
       "    </tr>\n",
       "    <tr>\n",
       "      <th>14</th>\n",
       "      <td>Dow_mean_enc</td>\n",
       "      <td>0.020444</td>\n",
       "    </tr>\n",
       "    <tr>\n",
       "      <th>28</th>\n",
       "      <td>street_cluster_Hour_realspot_enc</td>\n",
       "      <td>0.019508</td>\n",
       "    </tr>\n",
       "    <tr>\n",
       "      <th>24</th>\n",
       "      <td>From_To_Dow_mean_enc</td>\n",
       "      <td>0.019493</td>\n",
       "    </tr>\n",
       "    <tr>\n",
       "      <th>37</th>\n",
       "      <td>NONOP_OCCUPIED_TIME_pct</td>\n",
       "      <td>0.019468</td>\n",
       "    </tr>\n",
       "    <tr>\n",
       "      <th>7</th>\n",
       "      <td>lng</td>\n",
       "      <td>0.018036</td>\n",
       "    </tr>\n",
       "  </tbody>\n",
       "</table>\n",
       "</div>"
      ],
      "text/plain": [
       "                            features       imp\n",
       "16                  From_To_mean_enc  0.099610\n",
       "27              From_To_realspot_enc  0.073967\n",
       "11                              Time  0.065768\n",
       "3                      Street.Length  0.045386\n",
       "5                      dow_mean_freq  0.042658\n",
       "31           TOTAL_OCCUPIED_TIME_pct  0.034413\n",
       "21                 Dow_Hour_mean_enc  0.032013\n",
       "32             TOTAL_VACANT_TIME_pct  0.030820\n",
       "18                     Hour_mean_enc  0.023617\n",
       "33            TOTAL_UNKNOWN_TIME_pct  0.022298\n",
       "20       street_cluster_Dow_mean_enc  0.021785\n",
       "2                                 To  0.021777\n",
       "6                                lat  0.021206\n",
       "38             NONOP_VACANT_TIME_pct  0.020997\n",
       "4                    daily_mean_freq  0.020553\n",
       "14                      Dow_mean_enc  0.020444\n",
       "28  street_cluster_Hour_realspot_enc  0.019508\n",
       "24              From_To_Dow_mean_enc  0.019493\n",
       "37           NONOP_OCCUPIED_TIME_pct  0.019468\n",
       "7                                lng  0.018036"
      ]
     },
     "execution_count": 96,
     "metadata": {},
     "output_type": "execute_result"
    }
   ],
   "source": [
    "feat_imp_swhg[:20]"
   ]
  },
  {
   "cell_type": "markdown",
   "metadata": {},
   "source": [
    "#### Drop features with low importance"
   ]
  },
  {
   "cell_type": "code",
   "execution_count": 37,
   "metadata": {
    "collapsed": true
   },
   "outputs": [],
   "source": [
    "to_drop_swhg = feat_imp_swhg[feat_imp_swhg['imp'] <= 0.01].features"
   ]
  },
  {
   "cell_type": "markdown",
   "metadata": {},
   "source": [
    "#### Dropping Highly Correlated Features"
   ]
  },
  {
   "cell_type": "code",
   "execution_count": 97,
   "metadata": {
    "collapsed": true
   },
   "outputs": [],
   "source": [
    "import scipy\n",
    "from scipy.cluster import hierarchy as hc\n",
    "import matplotlib.pyplot as plt"
   ]
  },
  {
   "cell_type": "code",
   "execution_count": 98,
   "metadata": {
    "collapsed": true
   },
   "outputs": [],
   "source": [
    "to_keep = feat_imp_swhg[feat_imp_swhg['imp']>0.01].features\n",
    "df_keep = X_train_swhg[to_keep].copy()"
   ]
  },
  {
   "cell_type": "code",
   "execution_count": 99,
   "metadata": {},
   "outputs": [
    {
     "data": {
      "image/png": "[encoded data removed]",
      "text/plain": [
       "<matplotlib.figure.Figure at 0x1a1e2b19e8>"
      ]
     },
     "metadata": {},
     "output_type": "display_data"
    }
   ],
   "source": [
    "corr = np.round(scipy.stats.spearmanr(df_keep).correlation, 4)\n",
    "corr_condensed = hc.distance.squareform(1-corr)\n",
    "z = hc.linkage(corr_condensed, method='average')\n",
    "fig = plt.figure(figsize=(16,12))\n",
    "dendrogram = hc.dendrogram(z, labels=df_keep.columns, orientation='left', leaf_font_size=16)\n",
    "plt.show()"
   ]
  },
  {
   "cell_type": "code",
   "execution_count": 100,
   "metadata": {},
   "outputs": [],
   "source": [
    "from sklearn.metrics import roc_auc_score\n",
    "def get_oob(df):\n",
    "    best = (20, 25, 0.6, 0.7)\n",
    "    np.random.seed(1)\n",
    "    m = RandomForestClassifier(n_estimators = best[0], max_depth =best[1], max_features=best[2], class_weight={0:1,1:best[3]}, min_samples_split = 2, n_jobs=-1,oob_score=True)\n",
    "    m.fit(df, y_train_swhg)\n",
    "    p = m.predict(X_valid_swhg[df.columns])\n",
    "    auc = roc_auc_score(y_valid_swhg, p)\n",
    "    f1 = f05_score_hard(y_valid_swhg, p)\n",
    "    return m.oob_score_,f1,auc"
   ]
  },
  {
   "cell_type": "code",
   "execution_count": 101,
   "metadata": {},
   "outputs": [
    {
     "data": {
      "text/plain": [
       "(0.69597457627118642, 0.6402439024390244, 0.66826923076923073)"
      ]
     },
     "execution_count": 101,
     "metadata": {},
     "output_type": "execute_result"
    }
   ],
   "source": [
    "get_oob(X_train_swhg)"
   ]
  },
  {
   "cell_type": "code",
   "execution_count": 44,
   "metadata": {
    "collapsed": true
   },
   "outputs": [
    {
     "data": {
      "text/plain": [
       "Index(['From_To_mean_enc', 'From_To_realspot_enc', 'Time', 'Street.Length',\n",
       "       'dow_mean_freq', 'Dow_Hour_mean_enc', 'Hour_mean_enc',\n",
       "       'NONOP_OCCUPIED_TIME_pct', 'GMP_VACANT_TIME_pct', 'To',\n",
       "       'TOTAL_VACANT_TIME_pct', 'TOTAL_OCCUPIED_TIME_pct',\n",
       "       'From_To_Dow_realspot_enc', 'NONOP_VACANT_TIME_pct',\n",
       "       'TOTAL_UNKNOWN_TIME_pct', 'Street_mean_enc', 'Dow_mean_enc', 'lat',\n",
       "       'From_To', 'lng', 'street_cluster_Hour_mean_enc',\n",
       "       'OP_OCCUPIED_TIME_pct', 'GMP_UNKNOWN_TIME_pct', 'From_To_Dow_mean_enc',\n",
       "       'street_cluster_Hour_realspot_enc', 'street_cluster_Dow_mean_enc',\n",
       "       'street_cluster_isweekend_mean_enc', 'daily_mean_freq',\n",
       "       'From_To_Hour_realspot_enc', 'OP_UNKNOWN_TIME_pct',\n",
       "       'COMM_OCCUPIED_TIME_pct'],\n",
       "      dtype='object')"
      ]
     },
     "execution_count": 44,
     "metadata": {},
     "output_type": "execute_result"
    }
   ],
   "source": [
    "df_keep.columns"
   ]
  },
  {
   "cell_type": "code",
   "execution_count": 68,
   "metadata": {},
   "outputs": [
    {
     "name": "stdout",
     "output_type": "stream",
     "text": [
      "From_To_mean_enc (0.69385593220338981, 0.37162162162162155)\n",
      "From_To_realspot_enc (0.7097457627118644, 0.44444444444444448)\n",
      "Time (0.70127118644067798, 0.41666666666666674)\n",
      "Street.Length (0.71398305084745761, 0.43750000000000006)\n",
      "dow_mean_freq (0.68220338983050843, 0.40540540540540543)\n",
      "Dow_Hour_mean_enc (0.69279661016949157, 0.4513888888888889)\n",
      "Hour_mean_enc (0.69809322033898302, 0.50675675675675669)\n",
      "NONOP_OCCUPIED_TIME_pct (0.70656779661016944, 0.47297297297297308)\n",
      "GMP_VACANT_TIME_pct (0.67902542372881358, 0.39285714285714285)\n",
      "To (0.69279661016949157, 0.41666666666666669)\n",
      "TOTAL_VACANT_TIME_pct (0.69173728813559321, 0.50675675675675669)\n",
      "TOTAL_OCCUPIED_TIME_pct (0.69173728813559321, 0.42763157894736842)\n",
      "From_To_Dow_realspot_enc (0.70127118644067798, 0.46052631578947367)\n",
      "NONOP_VACANT_TIME_pct (0.70127118644067798, 0.48780487804878048)\n",
      "TOTAL_UNKNOWN_TIME_pct (0.69703389830508478, 0.44871794871794868)\n",
      "Street_mean_enc (0.69067796610169496, 0.50595238095238093)\n",
      "Dow_mean_enc (0.70338983050847459, 0.4513888888888889)\n",
      "lat (0.7076271186440678, 0.47619047619047628)\n",
      "From_To (0.69703389830508478, 0.39285714285714285)\n",
      "lng (0.68644067796610164, 0.47794117647058826)\n",
      "street_cluster_Hour_mean_enc (0.70868644067796616, 0.40540540540540543)\n",
      "OP_OCCUPIED_TIME_pct (0.7076271186440678, 0.49418604651162784)\n",
      "GMP_UNKNOWN_TIME_pct (0.69279661016949157, 0.51829268292682928)\n",
      "From_To_Dow_mean_enc (0.6875, 0.5)\n",
      "street_cluster_Hour_realspot_enc (0.70868644067796616, 0.41666666666666674)\n",
      "street_cluster_Dow_mean_enc (0.71080508474576276, 0.5357142857142857)\n",
      "street_cluster_isweekend_mean_enc (0.70233050847457623, 0.51282051282051277)\n",
      "daily_mean_freq (0.71186440677966101, 0.49342105263157893)\n",
      "From_To_Hour_realspot_enc (0.6896186440677966, 0.41666666666666663)\n",
      "OP_UNKNOWN_TIME_pct (0.69703389830508478, 0.43750000000000006)\n",
      "COMM_OCCUPIED_TIME_pct (0.70338983050847459, 0.4513888888888889)\n"
     ]
    }
   ],
   "source": [
    "#Drop one at each time check score\n",
    "for c in ('From_To_mean_enc', 'From_To_realspot_enc', 'Time', 'Street.Length',\n",
    "       'dow_mean_freq', 'Dow_Hour_mean_enc', 'Hour_mean_enc',\n",
    "       'NONOP_OCCUPIED_TIME_pct', 'GMP_VACANT_TIME_pct', 'To',\n",
    "       'TOTAL_VACANT_TIME_pct', 'TOTAL_OCCUPIED_TIME_pct',\n",
    "       'From_To_Dow_realspot_enc', 'NONOP_VACANT_TIME_pct',\n",
    "       'TOTAL_UNKNOWN_TIME_pct', 'Street_mean_enc', 'Dow_mean_enc', 'lat',\n",
    "       'From_To', 'lng', 'street_cluster_Hour_mean_enc',\n",
    "       'OP_OCCUPIED_TIME_pct', 'GMP_UNKNOWN_TIME_pct', 'From_To_Dow_mean_enc',\n",
    "       'street_cluster_Hour_realspot_enc', 'street_cluster_Dow_mean_enc',\n",
    "       'street_cluster_isweekend_mean_enc', 'daily_mean_freq',\n",
    "       'From_To_Hour_realspot_enc', 'OP_UNKNOWN_TIME_pct',\n",
    "       'COMM_OCCUPIED_TIME_pct'):\n",
    "    print(c, get_oob(df_keep.drop(c, axis=1)))"
   ]
  },
  {
   "cell_type": "code",
   "execution_count": 48,
   "metadata": {
    "collapsed": true
   },
   "outputs": [],
   "source": [
    "droplist = ['GMP_UNKNOWN_TIME_pct','street_cluster_Dow_mean_enc','From_To_Dow_mean_enc']"
   ]
  },
  {
   "cell_type": "markdown",
   "metadata": {},
   "source": [
    "### Rerun Grid Search to find parameters after dropping features"
   ]
  },
  {
   "cell_type": "code",
   "execution_count": 49,
   "metadata": {
    "collapsed": true
   },
   "outputs": [],
   "source": [
    "finalkeep = df_keep.drop(droplist, axis = 1)"
   ]
  },
  {
   "cell_type": "code",
   "execution_count": 50,
   "metadata": {
    "collapsed": true
   },
   "outputs": [],
   "source": [
    "finalval = X_valid_swhg[finalkeep.columns]"
   ]
  },
  {
   "cell_type": "code",
   "execution_count": 51,
   "metadata": {
    "collapsed": true
   },
   "outputs": [],
   "source": [
    "parameters = []\n",
    "f05 = []\n",
    "precision = []\n",
    "recall = []\n",
    "\n",
    "for p in combo:\n",
    "    np.random.seed(1)\n",
    "    m = RandomForestClassifier(n_estimators = p[0], max_depth =p[1], max_features=p[2],class_weight={0:1,1:p[3]}, min_samples_split = 2, n_jobs=-1)\n",
    "    m.fit(finalkeep,y_train_swhg)\n",
    "    pred = m.predict(finalval)\n",
    "    prec = precision_score(y_valid_swhg, pred)\n",
    "    rec = recall_score(y_valid_swhg, pred)\n",
    "    f = f05_score_hard(y_valid_swhg, pred)\n",
    "    parameters.append(p)\n",
    "    f05.append(f)\n",
    "    precision.append(prec)\n",
    "    recall.append(rec)\n",
    "\n",
    "table4 = pd.DataFrame({'Parameters': parameters, 'f0.5': f05, 'precision':precision, 'recall':recall})"
   ]
  },
  {
   "cell_type": "code",
   "execution_count": 52,
   "metadata": {},
   "outputs": [
    {
     "data": {
      "text/html": [
       "<div>\n",
       "<style>\n",
       "    .dataframe thead tr:only-child th {\n",
       "        text-align: right;\n",
       "    }\n",
       "\n",
       "    .dataframe thead th {\n",
       "        text-align: left;\n",
       "    }\n",
       "\n",
       "    .dataframe tbody tr th {\n",
       "        vertical-align: top;\n",
       "    }\n",
       "</style>\n",
       "<table border=\"1\" class=\"dataframe\">\n",
       "  <thead>\n",
       "    <tr style=\"text-align: right;\">\n",
       "      <th></th>\n",
       "      <th>Parameters</th>\n",
       "      <th>f0.5</th>\n",
       "      <th>precision</th>\n",
       "      <th>recall</th>\n",
       "    </tr>\n",
       "  </thead>\n",
       "  <tbody>\n",
       "    <tr>\n",
       "      <th>305</th>\n",
       "      <td>(20, 20, 0.9, 1.5)</td>\n",
       "      <td>0.609756</td>\n",
       "      <td>0.714286</td>\n",
       "      <td>0.384615</td>\n",
       "    </tr>\n",
       "    <tr>\n",
       "      <th>431</th>\n",
       "      <td>(20, 30, 0.9, 1.5)</td>\n",
       "      <td>0.609756</td>\n",
       "      <td>0.714286</td>\n",
       "      <td>0.384615</td>\n",
       "    </tr>\n",
       "    <tr>\n",
       "      <th>368</th>\n",
       "      <td>(20, 25, 0.9, 1.5)</td>\n",
       "      <td>0.609756</td>\n",
       "      <td>0.714286</td>\n",
       "      <td>0.384615</td>\n",
       "    </tr>\n",
       "    <tr>\n",
       "      <th>309</th>\n",
       "      <td>(20, 20, 1, 1)</td>\n",
       "      <td>0.592105</td>\n",
       "      <td>0.720000</td>\n",
       "      <td>0.346154</td>\n",
       "    </tr>\n",
       "    <tr>\n",
       "      <th>435</th>\n",
       "      <td>(20, 30, 1, 1)</td>\n",
       "      <td>0.590278</td>\n",
       "      <td>0.739130</td>\n",
       "      <td>0.326923</td>\n",
       "    </tr>\n",
       "  </tbody>\n",
       "</table>\n",
       "</div>"
      ],
      "text/plain": [
       "             Parameters      f0.5  precision    recall\n",
       "305  (20, 20, 0.9, 1.5)  0.609756   0.714286  0.384615\n",
       "431  (20, 30, 0.9, 1.5)  0.609756   0.714286  0.384615\n",
       "368  (20, 25, 0.9, 1.5)  0.609756   0.714286  0.384615\n",
       "309      (20, 20, 1, 1)  0.592105   0.720000  0.346154\n",
       "435      (20, 30, 1, 1)  0.590278   0.739130  0.326923"
      ]
     },
     "execution_count": 52,
     "metadata": {},
     "output_type": "execute_result"
    }
   ],
   "source": [
    "table4.sort_values('f0.5', ascending=False, inplace=True)\n",
    "table4.head()"
   ]
  },
  {
   "cell_type": "code",
   "execution_count": 71,
   "metadata": {},
   "outputs": [
    {
     "name": "stdout",
     "output_type": "stream",
     "text": [
      "0.609756097561 0.653846153846\n"
     ]
    },
    {
     "data": {
      "text/plain": [
       "<matplotlib.axes._subplots.AxesSubplot at 0x1a1deb4400>"
      ]
     },
     "execution_count": 71,
     "metadata": {},
     "output_type": "execute_result"
    },
    {
     "data": {
      "image/png": "[encoded data removed]",
      "text/plain": [
       "<matplotlib.figure.Figure at 0x113ce2dd8>"
      ]
     },
     "metadata": {},
     "output_type": "display_data"
    }
   ],
   "source": [
    "best = (20, 20, 0.9, 1.5)\n",
    "np.random.seed(1)\n",
    "m3 = RandomForestClassifier(n_estimators = best[0], max_depth =best[1], max_features=best[2], class_weight={0:1,1:best[3]}, min_samples_split = 2, n_jobs=-1)\n",
    "m3.fit(finalkeep,y_train_swhg)\n",
    "pred = m3.predict(finalval)\n",
    "soft = m3.predict_proba(finalval)\n",
    "prec = precision_score(y_valid_swhg, pred)\n",
    "rec = recall_score(y_valid_swhg, pred)\n",
    "f = f05_score_hard(y_valid_swhg, pred)\n",
    "auc = roc_auc_score(y_valid_swhg, pred)\n",
    "\n",
    "\n",
    "print (f,auc)    \n",
    "feat_imp_swhg = pd.DataFrame({\n",
    "    'features': finalval.columns,\n",
    "    'imp' :m3.feature_importances_\n",
    "})\n",
    "feat_imp_swhg.sort_values(by='imp', inplace=True, ascending=False)\n",
    "\n",
    "import matplotlib.pyplot as plt\n",
    "%matplotlib inline\n",
    "feat_imp_swhg[:20].plot('features','imp','barh', figsize=(12,7))"
   ]
  },
  {
   "cell_type": "code",
   "execution_count": 54,
   "metadata": {
    "collapsed": true
   },
   "outputs": [],
   "source": [
    "finalfeatures = finalkeep.columns"
   ]
  },
  {
   "cell_type": "markdown",
   "metadata": {},
   "source": [
    "### DOW-retrain entire model - remember to drop insignificant columns in the end"
   ]
  },
  {
   "cell_type": "code",
   "execution_count": 72,
   "metadata": {
    "collapsed": true
   },
   "outputs": [],
   "source": [
    "train = pd.merge(train,st_latlng,how ='left',left_on=[\"Street\",\"From\",\"To\"], right_on=[\"Street\",\"From\",\"To\"])\n",
    "test= pd.merge(test,st_latlng,how ='left',left_on=[\"Street\",\"From\",\"To\"], right_on=[\"Street\",\"From\",\"To\"])\n",
    "\n",
    "spots = np.vstack(train[['lat','lng']].values)\n",
    "kmeans = KMeans().fit(spots)\n",
    "train['street_cluster'] = kmeans.predict(train[['lat', 'lng']])\n",
    "test['street_cluster'] = kmeans.predict(test[['lat', 'lng']])"
   ]
  },
  {
   "cell_type": "code",
   "execution_count": 73,
   "metadata": {
    "collapsed": true
   },
   "outputs": [],
   "source": [
    "train['Minute'] = train.Date_Time.dt.minute\n",
    "test['Minute'] = pd.to_datetime(test['Date_Time']).dt.minute\n",
    "train['Hour'] = train.Date_Time.dt.hour\n",
    "test['Hour'] = pd.to_datetime(test['Date_Time']).dt.hour\n",
    "train['Dow'] = train.Date_Time.dt.weekday\n",
    "test['Dow'] = pd.to_datetime(test['Date_Time']).dt.weekday"
   ]
  },
  {
   "cell_type": "code",
   "execution_count": 74,
   "metadata": {
    "collapsed": true
   },
   "outputs": [],
   "source": [
    "train['Time'] = train[\"Hour\"]*100 + train['Minute']\n",
    "test['Time'] = test[\"Hour\"]*100 + test['Minute']\n",
    "train['isweekend'] = train['Dow'].apply(day_type)\n",
    "test['isweekend'] = test['Dow'].apply(day_type)\n",
    "train['From_To'] = train['From'] + '_' + train['To']\n",
    "test['From_To'] = test['From'] + '_' + test['To']"
   ]
  },
  {
   "cell_type": "code",
   "execution_count": 75,
   "metadata": {
    "collapsed": true
   },
   "outputs": [],
   "source": [
    "cols = ['Dow','isweekend','From_To','Street','Hour', 'street_cluster' ]\n",
    "multi_reg_mean_encoding(train, cols, splits =5)\n",
    "multi_test_mean_encoding(test, train, cols)"
   ]
  },
  {
   "cell_type": "code",
   "execution_count": 76,
   "metadata": {
    "collapsed": true
   },
   "outputs": [],
   "source": [
    "colpairs = [('street_cluster','Dow'),('Dow','Hour'), ('street_cluster','Hour'),\n",
    "            ('street_cluster','isweekend'),('From_To','Dow'),('From_To','Hour')]\n",
    "pairlist = []\n",
    "for pair in colpairs:\n",
    "    colname = pair[0] + '_' + pair[1]\n",
    "    pairlist.append(colname)\n",
    "    train[colname] = list(zip(train[pair[0]], train[pair[1]]))\n",
    "    test[colname] = list(zip(test[pair[0]], test[pair[1]]))"
   ]
  },
  {
   "cell_type": "code",
   "execution_count": 77,
   "metadata": {
    "collapsed": true
   },
   "outputs": [],
   "source": [
    "multi_reg_mean_encoding(train, pairlist, splits =5)\n",
    "multi_test_mean_encoding(test, train, pairlist)"
   ]
  },
  {
   "cell_type": "code",
   "execution_count": 78,
   "metadata": {
    "collapsed": true
   },
   "outputs": [],
   "source": [
    "pairlist2= ['Street','From_To','street_cluster_Hour','street_cluster_isweekend','From_To_Dow','From_To_Hour']\n",
    "realspot_mean_encoding(train, pairlist2, splits =5)\n",
    "realspot_test_mean_encoding(test, train, pairlist2)"
   ]
  },
  {
   "cell_type": "code",
   "execution_count": 79,
   "metadata": {
    "collapsed": true
   },
   "outputs": [],
   "source": [
    "train = train.drop(['Date_Time','Real.Spots', 'street_cluster_Dow', 'Dow_Hour', 'street_cluster_Hour', 'street_cluster_isweekend', 'From_To_Dow', 'From_To_Hour'], axis =1)\n",
    "test = test.drop(['Date_Time', 'street_cluster_Dow', 'Dow_Hour', 'street_cluster_Hour', 'street_cluster_isweekend', 'From_To_Dow', 'From_To_Hour'], axis = 1)"
   ]
  },
  {
   "cell_type": "code",
   "execution_count": 80,
   "metadata": {
    "collapsed": true
   },
   "outputs": [],
   "source": [
    "train['Street'] = train.Street.str.lower()\n",
    "train['From'] = train.From.str.lower()\n",
    "train['To'] = train.To.str.lower()\n",
    "test['Street'] = test.Street.str.lower()\n",
    "test['From'] = test.From.str.lower()\n",
    "test['To'] = test.To.str.lower()"
   ]
  },
  {
   "cell_type": "code",
   "execution_count": 81,
   "metadata": {
    "collapsed": true
   },
   "outputs": [],
   "source": [
    "train = pd.merge(train,sensor, how='left',left_on=['Street','Dow','Hour'], right_on=['STREET_NAME','DOW','TIME_OF_DAY'])\n",
    "test = pd.merge(test,sensor, how='left',left_on=['Street','Dow','Hour'], right_on=['STREET_NAME','DOW','TIME_OF_DAY'])\n",
    "\n",
    "train = train.drop(['STREET_NAME','DOW','TIME_OF_DAY'],axis =1)\n",
    "test = test.drop(['STREET_NAME','DOW','TIME_OF_DAY'],axis =1)"
   ]
  },
  {
   "cell_type": "code",
   "execution_count": 82,
   "metadata": {
    "collapsed": true
   },
   "outputs": [],
   "source": [
    "catcols = ['Street','From','To', 'From_To']\n",
    "train,test = process_dfs(train.copy(),test.copy(),catcols)\n",
    "train,test = cat2code(train,test,catcols)"
   ]
  },
  {
   "cell_type": "code",
   "execution_count": 83,
   "metadata": {
    "collapsed": true
   },
   "outputs": [],
   "source": [
    "X_train,y_train = split_response(train.copy(),'any_spot')"
   ]
  },
  {
   "cell_type": "code",
   "execution_count": 211,
   "metadata": {
    "collapsed": true
   },
   "outputs": [],
   "source": [
    "#only use selected features\n",
    "X_train = X_train[list(finalfeatures)]\n",
    "test = test[list(finalfeatures)]"
   ]
  },
  {
   "cell_type": "code",
   "execution_count": 84,
   "metadata": {},
   "outputs": [
    {
     "data": {
      "text/plain": [
       "Index(['Street', 'From', 'To', 'Street.Length', 'daily_mean_freq',\n",
       "       'dow_mean_freq', 'lat', 'lng', 'street_cluster', 'Minute', 'Hour',\n",
       "       'Dow', 'Time', 'isweekend', 'From_To', 'Dow_mean_enc',\n",
       "       'isweekend_mean_enc', 'From_To_mean_enc', 'Street_mean_enc',\n",
       "       'Hour_mean_enc', 'street_cluster_mean_enc',\n",
       "       'street_cluster_Dow_mean_enc', 'Dow_Hour_mean_enc',\n",
       "       'street_cluster_Hour_mean_enc', 'street_cluster_isweekend_mean_enc',\n",
       "       'From_To_Dow_mean_enc', 'From_To_Hour_mean_enc', 'Street_realspot_enc',\n",
       "       'From_To_realspot_enc', 'street_cluster_Hour_realspot_enc',\n",
       "       'street_cluster_isweekend_realspot_enc', 'From_To_Dow_realspot_enc',\n",
       "       'From_To_Hour_realspot_enc', 'TOTAL_OCCUPIED_TIME_pct',\n",
       "       'TOTAL_VACANT_TIME_pct', 'TOTAL_UNKNOWN_TIME_pct',\n",
       "       'OP_OCCUPIED_TIME_pct', 'OP_VACANT_TIME_pct', 'OP_UNKNOWN_TIME_pct',\n",
       "       'NONOP_OCCUPIED_TIME_pct', 'NONOP_VACANT_TIME_pct',\n",
       "       'NONOP_UNKNOWN_TIME_pct', 'GMP_OCCUPIED_TIME_pct',\n",
       "       'GMP_VACANT_TIME_pct', 'GMP_UNKNOWN_TIME_pct', 'COMM_OCCUPIED_TIME_pct',\n",
       "       'COMM_VACANT_TIME_pct', 'COMM_UNKNOWN_TIME_pct', 'TOTAL_TIME_spots',\n",
       "       'OP_TIME_spots', 'NONOP_TIME_spots', 'GMP_TIME_spots',\n",
       "       'COMM_TIME_spots'],\n",
       "      dtype='object')"
      ]
     },
     "execution_count": 84,
     "metadata": {},
     "output_type": "execute_result"
    }
   ],
   "source": [
    "X_train.columns"
   ]
  },
  {
   "cell_type": "code",
   "execution_count": 85,
   "metadata": {
    "collapsed": true
   },
   "outputs": [],
   "source": [
    "# Fit rf\n",
    "best = (20, 25, 0.6, 0.7)\n",
    "np.random.seed(1)\n",
    "m_swhg = RandomForestClassifier(n_estimators = best[0], max_depth =best[1], max_features=best[2], class_weight={0:1,1:best[3]}, min_samples_split = 2, n_jobs=-1)\n",
    "m_swhg.fit(X_train,y_train)\n",
    "pred_swhg_prob = m_swhg.predict_proba(test)\n",
    "pred_swhg = m_swhg.predict(test)"
   ]
  },
  {
   "cell_type": "code",
   "execution_count": 86,
   "metadata": {
    "collapsed": true
   },
   "outputs": [],
   "source": [
    "result = pd.DataFrame({\"id\": np.arange(1,len(test)+1),\"any_spot\":pred_swhg})"
   ]
  },
  {
   "cell_type": "code",
   "execution_count": 87,
   "metadata": {
    "collapsed": true
   },
   "outputs": [],
   "source": [
    "result[['id','any_spot']].to_csv(\"../submissions/37_1.csv\", index =False)"
   ]
  },
  {
   "cell_type": "code",
   "execution_count": null,
   "metadata": {
    "collapsed": true
   },
   "outputs": [],
   "source": []
  }
 ],
 "metadata": {
  "kernelspec": {
   "display_name": "Python 3",
   "language": "python",
   "name": "python3"
  }
 },
 "nbformat": 4,
 "nbformat_minor": 2
}
